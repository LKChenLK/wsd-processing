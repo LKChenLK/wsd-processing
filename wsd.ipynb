{
 "cells": [
  {
   "cell_type": "code",
   "execution_count": null,
   "metadata": {},
   "outputs": [],
   "source": [
    "MODEL_PATH = \"/home/nlplab/lkchen/wsd-processing/model/03mar2024_gen_lr_1e-3_cont\"\n",
    "MODEL_NAME = \"t5-small\"\n",
    "\n",
    "PROMPT_TEMPLATE = \"\"\"\\\n",
    "please explain the meaning of the word \" {0} \" in the \\\n",
    "following context. context: {1}\\\n",
    "\"\"\""
   ]
  },
  {
   "cell_type": "code",
   "execution_count": null,
   "metadata": {},
   "outputs": [],
   "source": [
    "from transformers import (\n",
    "    AutoModelForSeq2SeqLM,\n",
    "    AutoTokenizer,\n",
    "    Text2TextGenerationPipeline,\n",
    ")\n",
    "\n",
    "model = AutoModelForSeq2SeqLM.from_pretrained(MODEL_NAME)\n",
    "tokenizer = AutoTokenizer.from_pretrained(\"t5-small\")\n",
    "pipe = Text2TextGenerationPipeline(model=model, tokenizer=tokenizer, max_new_tokens=50, device='cuda:0')"
   ]
  },
  {
   "cell_type": "code",
   "execution_count": null,
   "metadata": {},
   "outputs": [],
   "source": [
    "context = \"Ms. Brown is a \\\"fixture\\\" in the village's community.\"\n",
    "target = \"fixture\"\n",
    "prompt = PROMPT_TEMPLATE.format(context, target)\n",
    "output = pipe(prompt)\n",
    "output"
   ]
  }
 ],
 "metadata": {
  "kernelspec": {
   "display_name": "Python 3",
   "language": "python",
   "name": "python3"
  },
  "language_info": {
   "name": "python",
   "version": "3.9.6"
  }
 },
 "nbformat": 4,
 "nbformat_minor": 2
}
